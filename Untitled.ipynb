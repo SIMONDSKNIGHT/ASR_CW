{
 "cells": [
  {
   "cell_type": "code",
   "execution_count": 45,
   "id": "fc91fe94",
   "metadata": {},
   "outputs": [
    {
     "name": "stdout",
     "output_type": "stream",
     "text": [
      "Requirement already satisfied: pandas in /afs/inf.ed.ac.uk/user/s20/s2024004/.conda/envs/asr_env/lib/python3.7/site-packages (1.3.5)\r\n",
      "Requirement already satisfied: pytz>=2017.3 in /afs/inf.ed.ac.uk/user/s20/s2024004/.conda/envs/asr_env/lib/python3.7/site-packages (from pandas) (2024.1)\r\n",
      "Requirement already satisfied: python-dateutil>=2.7.3 in /afs/inf.ed.ac.uk/user/s20/s2024004/.conda/envs/asr_env/lib/python3.7/site-packages (from pandas) (2.8.2)\r\n",
      "Requirement already satisfied: numpy>=1.17.3 in /afs/inf.ed.ac.uk/user/s20/s2024004/.conda/envs/asr_env/lib/python3.7/site-packages (from pandas) (1.21.6)\r\n",
      "Requirement already satisfied: six>=1.5 in /afs/inf.ed.ac.uk/user/s20/s2024004/.conda/envs/asr_env/lib/python3.7/site-packages (from python-dateutil>=2.7.3->pandas) (1.16.0)\r\n"
     ]
    }
   ],
   "source": [
    "import sys\n",
    "!{sys.executable} -m pip install pandas"
   ]
  },
  {
   "cell_type": "code",
   "execution_count": 46,
   "id": "d3378f3c",
   "metadata": {},
   "outputs": [],
   "source": [
    "import pandas as pd"
   ]
  },
  {
   "cell_type": "code",
   "execution_count": 119,
   "id": "e58e7bdc",
   "metadata": {},
   "outputs": [
    {
     "data": {
      "text/html": [
       "<div>\n",
       "<style scoped>\n",
       "    .dataframe tbody tr th:only-of-type {\n",
       "        vertical-align: middle;\n",
       "    }\n",
       "\n",
       "    .dataframe tbody tr th {\n",
       "        vertical-align: top;\n",
       "    }\n",
       "\n",
       "    .dataframe thead th {\n",
       "        text-align: right;\n",
       "    }\n",
       "</style>\n",
       "<table border=\"1\" class=\"dataframe\">\n",
       "  <thead>\n",
       "    <tr style=\"text-align: right;\">\n",
       "      <th></th>\n",
       "      <th>Unnamed: 0</th>\n",
       "      <th>Filename</th>\n",
       "      <th>Insertions</th>\n",
       "      <th>Deletions</th>\n",
       "      <th>Substitutions</th>\n",
       "      <th>WER</th>\n",
       "      <th>Word Count</th>\n",
       "      <th>transcription</th>\n",
       "      <th>Viterbi transcription</th>\n",
       "      <th>Decode speed</th>\n",
       "      <th>Backtrace speed</th>\n",
       "      <th>Forward computations</th>\n",
       "    </tr>\n",
       "  </thead>\n",
       "  <tbody>\n",
       "    <tr>\n",
       "      <th>0</th>\n",
       "      <td>0</td>\n",
       "      <td>0000.wav</td>\n",
       "      <td>2</td>\n",
       "      <td>0</td>\n",
       "      <td>0</td>\n",
       "      <td>0.117647</td>\n",
       "      <td>17</td>\n",
       "      <td>peter piper picked a peck of pickled peppers w...</td>\n",
       "      <td>pickled peter piper picked a the peck of pickl...</td>\n",
       "      <td>7.746792</td>\n",
       "      <td>0.000735</td>\n",
       "      <td>354068</td>\n",
       "    </tr>\n",
       "    <tr>\n",
       "      <th>1</th>\n",
       "      <td>1</td>\n",
       "      <td>0001.wav</td>\n",
       "      <td>3</td>\n",
       "      <td>0</td>\n",
       "      <td>1</td>\n",
       "      <td>0.571429</td>\n",
       "      <td>7</td>\n",
       "      <td>peter picked a peck of pickled peppers</td>\n",
       "      <td>pickled a peter picked the of peck of pickled ...</td>\n",
       "      <td>4.366109</td>\n",
       "      <td>0.000330</td>\n",
       "      <td>200618</td>\n",
       "    </tr>\n",
       "    <tr>\n",
       "      <th>2</th>\n",
       "      <td>2</td>\n",
       "      <td>0002.wav</td>\n",
       "      <td>0</td>\n",
       "      <td>1</td>\n",
       "      <td>1</td>\n",
       "      <td>0.333333</td>\n",
       "      <td>6</td>\n",
       "      <td>a peck of pickled peppers picked</td>\n",
       "      <td>pickled peck pickled peppers picked</td>\n",
       "      <td>3.268238</td>\n",
       "      <td>0.000196</td>\n",
       "      <td>150398</td>\n",
       "    </tr>\n",
       "    <tr>\n",
       "      <th>3</th>\n",
       "      <td>3</td>\n",
       "      <td>0003.wav</td>\n",
       "      <td>1</td>\n",
       "      <td>0</td>\n",
       "      <td>0</td>\n",
       "      <td>0.250000</td>\n",
       "      <td>4</td>\n",
       "      <td>peter piper peter piper</td>\n",
       "      <td>pickled peter piper peter piper</td>\n",
       "      <td>2.374556</td>\n",
       "      <td>0.000133</td>\n",
       "      <td>110718</td>\n",
       "    </tr>\n",
       "    <tr>\n",
       "      <th>4</th>\n",
       "      <td>4</td>\n",
       "      <td>0004.wav</td>\n",
       "      <td>1</td>\n",
       "      <td>1</td>\n",
       "      <td>1</td>\n",
       "      <td>0.428571</td>\n",
       "      <td>7</td>\n",
       "      <td>where's the peck of pickled peppers picked</td>\n",
       "      <td>pickled where's the pickled pickled peppers pi...</td>\n",
       "      <td>3.137163</td>\n",
       "      <td>0.000191</td>\n",
       "      <td>145128</td>\n",
       "    </tr>\n",
       "    <tr>\n",
       "      <th>...</th>\n",
       "      <td>...</td>\n",
       "      <td>...</td>\n",
       "      <td>...</td>\n",
       "      <td>...</td>\n",
       "      <td>...</td>\n",
       "      <td>...</td>\n",
       "      <td>...</td>\n",
       "      <td>...</td>\n",
       "      <td>...</td>\n",
       "      <td>...</td>\n",
       "      <td>...</td>\n",
       "      <td>...</td>\n",
       "    </tr>\n",
       "    <tr>\n",
       "      <th>323</th>\n",
       "      <td>323</td>\n",
       "      <td>0323.wav</td>\n",
       "      <td>2</td>\n",
       "      <td>0</td>\n",
       "      <td>1</td>\n",
       "      <td>1.000000</td>\n",
       "      <td>3</td>\n",
       "      <td>pickled peter piper</td>\n",
       "      <td>a pickled picked picked piper</td>\n",
       "      <td>2.446318</td>\n",
       "      <td>0.000145</td>\n",
       "      <td>113198</td>\n",
       "    </tr>\n",
       "    <tr>\n",
       "      <th>324</th>\n",
       "      <td>324</td>\n",
       "      <td>0324.wav</td>\n",
       "      <td>4</td>\n",
       "      <td>1</td>\n",
       "      <td>6</td>\n",
       "      <td>0.647059</td>\n",
       "      <td>17</td>\n",
       "      <td>peter piper picked a peck of pickled peppers w...</td>\n",
       "      <td>a a the of of of picked of peck of pickled whe...</td>\n",
       "      <td>5.615665</td>\n",
       "      <td>0.000447</td>\n",
       "      <td>256108</td>\n",
       "    </tr>\n",
       "    <tr>\n",
       "      <th>325</th>\n",
       "      <td>325</td>\n",
       "      <td>0325.wav</td>\n",
       "      <td>3</td>\n",
       "      <td>1</td>\n",
       "      <td>2</td>\n",
       "      <td>0.750000</td>\n",
       "      <td>8</td>\n",
       "      <td>peter piper picked a peck of pickled peppers</td>\n",
       "      <td>a the of piper picked of a of pickled where's</td>\n",
       "      <td>2.803070</td>\n",
       "      <td>0.000164</td>\n",
       "      <td>129318</td>\n",
       "    </tr>\n",
       "    <tr>\n",
       "      <th>326</th>\n",
       "      <td>326</td>\n",
       "      <td>0326.wav</td>\n",
       "      <td>4</td>\n",
       "      <td>2</td>\n",
       "      <td>5</td>\n",
       "      <td>0.916667</td>\n",
       "      <td>12</td>\n",
       "      <td>peter piper picked pickled peppers where's the...</td>\n",
       "      <td>a the of piper a picked where's where's pickle...</td>\n",
       "      <td>4.252171</td>\n",
       "      <td>0.000318</td>\n",
       "      <td>195348</td>\n",
       "    </tr>\n",
       "    <tr>\n",
       "      <th>327</th>\n",
       "      <td>327</td>\n",
       "      <td>0327.wav</td>\n",
       "      <td>2</td>\n",
       "      <td>1</td>\n",
       "      <td>4</td>\n",
       "      <td>0.875000</td>\n",
       "      <td>8</td>\n",
       "      <td>a peck of pickled peppers peter piper picked</td>\n",
       "      <td>a of pickled pickled where's where's of where's a</td>\n",
       "      <td>2.759291</td>\n",
       "      <td>0.000458</td>\n",
       "      <td>126528</td>\n",
       "    </tr>\n",
       "  </tbody>\n",
       "</table>\n",
       "<p>328 rows × 12 columns</p>\n",
       "</div>"
      ],
      "text/plain": [
       "     Unnamed: 0  Filename  Insertions  Deletions  Substitutions       WER  \\\n",
       "0             0  0000.wav           2          0              0  0.117647   \n",
       "1             1  0001.wav           3          0              1  0.571429   \n",
       "2             2  0002.wav           0          1              1  0.333333   \n",
       "3             3  0003.wav           1          0              0  0.250000   \n",
       "4             4  0004.wav           1          1              1  0.428571   \n",
       "..          ...       ...         ...        ...            ...       ...   \n",
       "323         323  0323.wav           2          0              1  1.000000   \n",
       "324         324  0324.wav           4          1              6  0.647059   \n",
       "325         325  0325.wav           3          1              2  0.750000   \n",
       "326         326  0326.wav           4          2              5  0.916667   \n",
       "327         327  0327.wav           2          1              4  0.875000   \n",
       "\n",
       "     Word Count                                      transcription  \\\n",
       "0            17  peter piper picked a peck of pickled peppers w...   \n",
       "1             7             peter picked a peck of pickled peppers   \n",
       "2             6                   a peck of pickled peppers picked   \n",
       "3             4                            peter piper peter piper   \n",
       "4             7         where's the peck of pickled peppers picked   \n",
       "..          ...                                                ...   \n",
       "323           3                                pickled peter piper   \n",
       "324          17  peter piper picked a peck of pickled peppers w...   \n",
       "325           8       peter piper picked a peck of pickled peppers   \n",
       "326          12  peter piper picked pickled peppers where's the...   \n",
       "327           8       a peck of pickled peppers peter piper picked   \n",
       "\n",
       "                                 Viterbi transcription  Decode speed  \\\n",
       "0    pickled peter piper picked a the peck of pickl...      7.746792   \n",
       "1    pickled a peter picked the of peck of pickled ...      4.366109   \n",
       "2                  pickled peck pickled peppers picked      3.268238   \n",
       "3                      pickled peter piper peter piper      2.374556   \n",
       "4    pickled where's the pickled pickled peppers pi...      3.137163   \n",
       "..                                                 ...           ...   \n",
       "323                      a pickled picked picked piper      2.446318   \n",
       "324  a a the of of of picked of peck of pickled whe...      5.615665   \n",
       "325      a the of piper picked of a of pickled where's      2.803070   \n",
       "326  a the of piper a picked where's where's pickle...      4.252171   \n",
       "327  a of pickled pickled where's where's of where's a      2.759291   \n",
       "\n",
       "     Backtrace speed  Forward computations  \n",
       "0           0.000735                354068  \n",
       "1           0.000330                200618  \n",
       "2           0.000196                150398  \n",
       "3           0.000133                110718  \n",
       "4           0.000191                145128  \n",
       "..               ...                   ...  \n",
       "323         0.000145                113198  \n",
       "324         0.000447                256108  \n",
       "325         0.000164                129318  \n",
       "326         0.000318                195348  \n",
       "327         0.000458                126528  \n",
       "\n",
       "[328 rows x 12 columns]"
      ]
     },
     "execution_count": 119,
     "metadata": {},
     "output_type": "execute_result"
    }
   ],
   "source": [
    "results = pd.read_csv(\"result_silent_0.9.csv\")\n",
    "results.head(-1)"
   ]
  },
  {
   "cell_type": "code",
   "execution_count": 120,
   "id": "4668d46f",
   "metadata": {},
   "outputs": [
    {
     "name": "stdout",
     "output_type": "stream",
     "text": [
      "1.0402727127075195\n",
      "13.338780641555786\n",
      "6.413459777832031e-05\n",
      "0.0030405521392822\n"
     ]
    }
   ],
   "source": [
    "decode_speeds = [x for x in results['Decode speed']]\n",
    "backtrace_speeds = [x for x in results['Backtrace speed']]\n",
    "print(min(decode_speeds))\n",
    "print(max(decode_speeds))\n",
    "print(min(backtrace_speeds))\n",
    "print(max(backtrace_speeds))"
   ]
  },
  {
   "cell_type": "code",
   "execution_count": 121,
   "id": "65013419",
   "metadata": {},
   "outputs": [
    {
     "data": {
      "text/plain": [
       "1033.5630786418915"
      ]
     },
     "execution_count": 121,
     "metadata": {},
     "output_type": "execute_result"
    }
   ],
   "source": [
    "# total decode time\n",
    "results['Decode speed'].sum()"
   ]
  },
  {
   "cell_type": "code",
   "execution_count": 122,
   "id": "462a2936",
   "metadata": {},
   "outputs": [
    {
     "data": {
      "text/plain": [
       "0.08824563026426713"
      ]
     },
     "execution_count": 122,
     "metadata": {},
     "output_type": "execute_result"
    }
   ],
   "source": [
    "# total backtrace time\n",
    "results['Backtrace speed'].sum()"
   ]
  },
  {
   "cell_type": "code",
   "execution_count": 123,
   "id": "97423767",
   "metadata": {},
   "outputs": [
    {
     "data": {
      "text/plain": [
       "47465322"
      ]
     },
     "execution_count": 123,
     "metadata": {},
     "output_type": "execute_result"
    }
   ],
   "source": [
    "# total forward computations\n",
    "results['Forward computations'].sum()"
   ]
  },
  {
   "cell_type": "code",
   "execution_count": 124,
   "id": "629430c9",
   "metadata": {},
   "outputs": [
    {
     "data": {
      "text/plain": [
       "59.97776286530087"
      ]
     },
     "execution_count": 124,
     "metadata": {},
     "output_type": "execute_result"
    }
   ],
   "source": [
    "# average WER\n",
    "results['WER'].sum()/329*100"
   ]
  },
  {
   "cell_type": "code",
   "execution_count": 125,
   "id": "da0daeb6",
   "metadata": {},
   "outputs": [
    {
     "name": "stdout",
     "output_type": "stream",
     "text": [
      "Average Insertion %\n",
      "33.04443440819267\n",
      "Average Deletions %\n",
      "3.405572415942521\n",
      "Average Substitutions %\n",
      "23.52775604116566\n"
     ]
    }
   ],
   "source": [
    "print(\"Average Insertion %\")\n",
    "print((results['Insertions']/results['Word Count']).sum()/329*100)\n",
    "print(\"Average Deletions %\")\n",
    "print((results['Deletions']/results['Word Count']).sum()/329*100)\n",
    "print(\"Average Substitutions %\")\n",
    "print((results['Substitutions']/results['Word Count']).sum()/329*100)"
   ]
  },
  {
   "cell_type": "code",
   "execution_count": 126,
   "id": "5e4557df",
   "metadata": {},
   "outputs": [
    {
     "data": {
      "text/plain": [
       "3.141529114413044"
      ]
     },
     "execution_count": 126,
     "metadata": {},
     "output_type": "execute_result"
    }
   ],
   "source": [
    "# average decode speed\n",
    "results['Decode speed'].sum()/329"
   ]
  },
  {
   "cell_type": "code",
   "execution_count": 127,
   "id": "20da0f09",
   "metadata": {},
   "outputs": [
    {
     "data": {
      "text/plain": [
       "0.0002682238001953408"
      ]
     },
     "execution_count": 127,
     "metadata": {},
     "output_type": "execute_result"
    }
   ],
   "source": [
    "# average backtrace speed\n",
    "results['Backtrace speed'].sum()/329"
   ]
  },
  {
   "cell_type": "code",
   "execution_count": 128,
   "id": "983e512e",
   "metadata": {},
   "outputs": [
    {
     "data": {
      "text/plain": [
       "144271.4954407295"
      ]
     },
     "execution_count": 128,
     "metadata": {},
     "output_type": "execute_result"
    }
   ],
   "source": [
    "# average forward computations\n",
    "results['Forward computations'].sum()/329"
   ]
  },
  {
   "cell_type": "code",
   "execution_count": 129,
   "id": "820460e7",
   "metadata": {},
   "outputs": [
    {
     "name": "stdout",
     "output_type": "stream",
     "text": [
      "55\n"
     ]
    },
    {
     "data": {
      "text/plain": [
       "16.717325227963524"
      ]
     },
     "execution_count": 129,
     "metadata": {},
     "output_type": "execute_result"
    }
   ],
   "source": [
    "# number and % of WER > 1.0\n",
    "counter = 0\n",
    "for x in results['WER']:\n",
    "    if x >= 1.0:\n",
    "        counter += 1\n",
    "print(counter)\n",
    "counter/329*100"
   ]
  },
  {
   "cell_type": "code",
   "execution_count": null,
   "id": "ccd5f91c",
   "metadata": {},
   "outputs": [],
   "source": []
  },
  {
   "cell_type": "code",
   "execution_count": 15,
   "id": "02d06f06",
   "metadata": {},
   "outputs": [
    {
     "name": "stdout",
     "output_type": "stream",
     "text": [
      "Requirement already satisfied: matplotlib in /afs/inf.ed.ac.uk/user/s20/s2024004/.conda/envs/asr_env/lib/python3.7/site-packages (3.5.3)\n",
      "Requirement already satisfied: cycler>=0.10 in /afs/inf.ed.ac.uk/user/s20/s2024004/.conda/envs/asr_env/lib/python3.7/site-packages (from matplotlib) (0.11.0)\n",
      "Requirement already satisfied: pillow>=6.2.0 in /afs/inf.ed.ac.uk/user/s20/s2024004/.conda/envs/asr_env/lib/python3.7/site-packages (from matplotlib) (9.5.0)\n",
      "Requirement already satisfied: pyparsing>=2.2.1 in /afs/inf.ed.ac.uk/user/s20/s2024004/.conda/envs/asr_env/lib/python3.7/site-packages (from matplotlib) (3.1.2)\n",
      "Requirement already satisfied: packaging>=20.0 in /afs/inf.ed.ac.uk/user/s20/s2024004/.conda/envs/asr_env/lib/python3.7/site-packages (from matplotlib) (23.2)\n",
      "Requirement already satisfied: python-dateutil>=2.7 in /afs/inf.ed.ac.uk/user/s20/s2024004/.conda/envs/asr_env/lib/python3.7/site-packages (from matplotlib) (2.8.2)\n",
      "Requirement already satisfied: kiwisolver>=1.0.1 in /afs/inf.ed.ac.uk/user/s20/s2024004/.conda/envs/asr_env/lib/python3.7/site-packages (from matplotlib) (1.4.5)\n",
      "Requirement already satisfied: numpy>=1.17 in /afs/inf.ed.ac.uk/user/s20/s2024004/.conda/envs/asr_env/lib/python3.7/site-packages (from matplotlib) (1.21.6)\n",
      "Requirement already satisfied: fonttools>=4.22.0 in /afs/inf.ed.ac.uk/user/s20/s2024004/.conda/envs/asr_env/lib/python3.7/site-packages (from matplotlib) (4.38.0)\n",
      "Requirement already satisfied: typing-extensions in /afs/inf.ed.ac.uk/user/s20/s2024004/.conda/envs/asr_env/lib/python3.7/site-packages (from kiwisolver>=1.0.1->matplotlib) (4.7.1)\n",
      "Requirement already satisfied: six>=1.5 in /afs/inf.ed.ac.uk/user/s20/s2024004/.conda/envs/asr_env/lib/python3.7/site-packages (from python-dateutil>=2.7->matplotlib) (1.16.0)\n"
     ]
    }
   ],
   "source": [
    "import sys\n",
    "!{sys.executable} -m pip install matplotlib\n",
    "import matplotlib.pyplot as plt"
   ]
  },
  {
   "cell_type": "code",
   "execution_count": 16,
   "id": "9ccdd1d5",
   "metadata": {},
   "outputs": [
    {
     "data": {
      "image/png": "[encoded data removed]",
      "text/plain": [
       "<Figure size 640x480 with 1 Axes>"
      ]
     },
     "metadata": {},
     "output_type": "display_data"
    }
   ],
   "source": [
    "plt.plot([x for x in range(0, 329)], results['WER'])\n",
    "plt.show()"
   ]
  },
  {
   "cell_type": "code",
   "execution_count": 17,
   "id": "c27f3df1",
   "metadata": {},
   "outputs": [
    {
     "data": {
      "image/png": "[encoded data removed]",
      "text/plain": [
       "<Figure size 640x480 with 1 Axes>"
      ]
     },
     "metadata": {},
     "output_type": "display_data"
    }
   ],
   "source": [
    "# Define the range for the histogram bins\n",
    "bin_range = [i * 0.1 for i in range(int(max(results['WER']) / 0.1) + 2)]\n",
    "\n",
    "# Create the histogram\n",
    "plt.hist(results['WER'], bins=bin_range, edgecolor='black')\n",
    "\n",
    "# Set labels and title\n",
    "plt.xlabel('Word Error Rate')\n",
    "plt.ylabel('Frequency')\n",
    "plt.title('Distribution of Word Error Rates')\n",
    "\n",
    "# Show grid\n",
    "plt.grid(True)\n",
    "\n",
    "# Show plot\n",
    "plt.show()"
   ]
  },
  {
   "cell_type": "code",
   "execution_count": null,
   "id": "13c4d066",
   "metadata": {},
   "outputs": [],
   "source": []
  },
  {
   "cell_type": "code",
   "execution_count": null,
   "id": "72df1cc5",
   "metadata": {},
   "outputs": [],
   "source": []
  }
 ],
 "metadata": {
  "kernelspec": {
   "display_name": "Python 3 (ipykernel)",
   "language": "python",
   "name": "python3"
  },
  "language_info": {
   "codemirror_mode": {
    "name": "ipython",
    "version": 3
   },
   "file_extension": ".py",
   "mimetype": "text/x-python",
   "name": "python",
   "nbconvert_exporter": "python",
   "pygments_lexer": "ipython3",
   "version": "3.7.16"
  }
 },
 "nbformat": 4,
 "nbformat_minor": 5
}
