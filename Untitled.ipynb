{
 "cells": [
  {
   "cell_type": "code",
   "execution_count": 37,
   "id": "fc91fe94",
   "metadata": {},
   "outputs": [
    {
     "name": "stdout",
     "output_type": "stream",
     "text": [
      "Requirement already satisfied: pandas in /afs/inf.ed.ac.uk/user/s20/s2059564/.conda/envs/asr_env/lib/python3.7/site-packages (1.3.5)\r\n",
      "Requirement already satisfied: pytz>=2017.3 in /afs/inf.ed.ac.uk/user/s20/s2059564/.conda/envs/asr_env/lib/python3.7/site-packages (from pandas) (2024.1)\r\n",
      "Requirement already satisfied: numpy>=1.17.3 in /afs/inf.ed.ac.uk/user/s20/s2059564/.conda/envs/asr_env/lib/python3.7/site-packages (from pandas) (1.21.6)\r\n",
      "Requirement already satisfied: python-dateutil>=2.7.3 in /afs/inf.ed.ac.uk/user/s20/s2059564/.conda/envs/asr_env/lib/python3.7/site-packages (from pandas) (2.8.2)\r\n",
      "Requirement already satisfied: six>=1.5 in /afs/inf.ed.ac.uk/user/s20/s2059564/.conda/envs/asr_env/lib/python3.7/site-packages (from python-dateutil>=2.7.3->pandas) (1.16.0)\r\n"
     ]
    }
   ],
   "source": [
    "import sys\n",
    "!{sys.executable} -m pip install pandas"
   ]
  },
  {
   "cell_type": "code",
   "execution_count": 38,
   "id": "d3378f3c",
   "metadata": {},
   "outputs": [],
   "source": [
    "import pandas as pd"
   ]
  },
  {
   "cell_type": "code",
   "execution_count": 39,
   "id": "e58e7bdc",
   "metadata": {},
   "outputs": [
    {
     "data": {
      "text/html": [
       "<div>\n",
       "<style scoped>\n",
       "    .dataframe tbody tr th:only-of-type {\n",
       "        vertical-align: middle;\n",
       "    }\n",
       "\n",
       "    .dataframe tbody tr th {\n",
       "        vertical-align: top;\n",
       "    }\n",
       "\n",
       "    .dataframe thead th {\n",
       "        text-align: right;\n",
       "    }\n",
       "</style>\n",
       "<table border=\"1\" class=\"dataframe\">\n",
       "  <thead>\n",
       "    <tr style=\"text-align: right;\">\n",
       "      <th></th>\n",
       "      <th>Filename</th>\n",
       "      <th>Insertions</th>\n",
       "      <th>Deletions</th>\n",
       "      <th>Substitutions</th>\n",
       "      <th>WER</th>\n",
       "      <th>Word Count</th>\n",
       "      <th>transcription</th>\n",
       "      <th>Viterbi transcription</th>\n",
       "      <th>Decode speed</th>\n",
       "      <th>Backtrace speed</th>\n",
       "      <th>Forward computations</th>\n",
       "    </tr>\n",
       "  </thead>\n",
       "  <tbody>\n",
       "    <tr>\n",
       "      <th>0</th>\n",
       "      <td>0000.wav</td>\n",
       "      <td>4</td>\n",
       "      <td>0</td>\n",
       "      <td>0</td>\n",
       "      <td>0.235294</td>\n",
       "      <td>17</td>\n",
       "      <td>peter piper picked a peck of pickled peppers w...</td>\n",
       "      <td>pickled the peter piper picked a the peck of p...</td>\n",
       "      <td>6.386551</td>\n",
       "      <td>0.002707</td>\n",
       "      <td>240318</td>\n",
       "    </tr>\n",
       "    <tr>\n",
       "      <th>1</th>\n",
       "      <td>0001.wav</td>\n",
       "      <td>6</td>\n",
       "      <td>0</td>\n",
       "      <td>1</td>\n",
       "      <td>1.000000</td>\n",
       "      <td>7</td>\n",
       "      <td>peter picked a peck of pickled peppers</td>\n",
       "      <td>pickled the picked the peter picked the of pec...</td>\n",
       "      <td>3.920002</td>\n",
       "      <td>0.001042</td>\n",
       "      <td>136368</td>\n",
       "    </tr>\n",
       "    <tr>\n",
       "      <th>2</th>\n",
       "      <td>0002.wav</td>\n",
       "      <td>2</td>\n",
       "      <td>0</td>\n",
       "      <td>1</td>\n",
       "      <td>0.500000</td>\n",
       "      <td>6</td>\n",
       "      <td>a peck of pickled peppers picked</td>\n",
       "      <td>pickled the peck of pickled peppers picked the</td>\n",
       "      <td>2.914383</td>\n",
       "      <td>0.000777</td>\n",
       "      <td>102348</td>\n",
       "    </tr>\n",
       "    <tr>\n",
       "      <th>3</th>\n",
       "      <td>0003.wav</td>\n",
       "      <td>3</td>\n",
       "      <td>0</td>\n",
       "      <td>0</td>\n",
       "      <td>0.750000</td>\n",
       "      <td>4</td>\n",
       "      <td>peter piper peter piper</td>\n",
       "      <td>pickled the peter piper peter piper the</td>\n",
       "      <td>2.156747</td>\n",
       "      <td>0.001054</td>\n",
       "      <td>75468</td>\n",
       "    </tr>\n",
       "    <tr>\n",
       "      <th>4</th>\n",
       "      <td>0004.wav</td>\n",
       "      <td>2</td>\n",
       "      <td>0</td>\n",
       "      <td>3</td>\n",
       "      <td>0.714286</td>\n",
       "      <td>7</td>\n",
       "      <td>where's the peck of pickled peppers picked</td>\n",
       "      <td>pickled the where's the pickled pickled pepper...</td>\n",
       "      <td>2.772364</td>\n",
       "      <td>0.000598</td>\n",
       "      <td>98778</td>\n",
       "    </tr>\n",
       "    <tr>\n",
       "      <th>...</th>\n",
       "      <td>...</td>\n",
       "      <td>...</td>\n",
       "      <td>...</td>\n",
       "      <td>...</td>\n",
       "      <td>...</td>\n",
       "      <td>...</td>\n",
       "      <td>...</td>\n",
       "      <td>...</td>\n",
       "      <td>...</td>\n",
       "      <td>...</td>\n",
       "      <td>...</td>\n",
       "    </tr>\n",
       "    <tr>\n",
       "      <th>324</th>\n",
       "      <td>0324.wav</td>\n",
       "      <td>6</td>\n",
       "      <td>1</td>\n",
       "      <td>5</td>\n",
       "      <td>0.705882</td>\n",
       "      <td>17</td>\n",
       "      <td>peter piper picked a peck of pickled peppers w...</td>\n",
       "      <td>peppers the of of of picked of peck of pickled...</td>\n",
       "      <td>4.662210</td>\n",
       "      <td>0.000868</td>\n",
       "      <td>173958</td>\n",
       "    </tr>\n",
       "    <tr>\n",
       "      <th>325</th>\n",
       "      <td>0325.wav</td>\n",
       "      <td>3</td>\n",
       "      <td>1</td>\n",
       "      <td>2</td>\n",
       "      <td>0.750000</td>\n",
       "      <td>8</td>\n",
       "      <td>peter piper picked a peck of pickled peppers</td>\n",
       "      <td>the of piper picked of a of pickled where's the</td>\n",
       "      <td>2.466545</td>\n",
       "      <td>0.000338</td>\n",
       "      <td>88068</td>\n",
       "    </tr>\n",
       "    <tr>\n",
       "      <th>326</th>\n",
       "      <td>0326.wav</td>\n",
       "      <td>3</td>\n",
       "      <td>0</td>\n",
       "      <td>8</td>\n",
       "      <td>0.916667</td>\n",
       "      <td>12</td>\n",
       "      <td>peter piper picked pickled peppers where's the...</td>\n",
       "      <td>the of piper of a picked where's where's pickl...</td>\n",
       "      <td>3.596072</td>\n",
       "      <td>0.000784</td>\n",
       "      <td>132798</td>\n",
       "    </tr>\n",
       "    <tr>\n",
       "      <th>327</th>\n",
       "      <td>0327.wav</td>\n",
       "      <td>3</td>\n",
       "      <td>1</td>\n",
       "      <td>4</td>\n",
       "      <td>1.000000</td>\n",
       "      <td>8</td>\n",
       "      <td>a peck of pickled peppers peter piper picked</td>\n",
       "      <td>the of pickled pickled where's where's of wher...</td>\n",
       "      <td>2.351508</td>\n",
       "      <td>0.000326</td>\n",
       "      <td>86178</td>\n",
       "    </tr>\n",
       "    <tr>\n",
       "      <th>328</th>\n",
       "      <td>0328.wav</td>\n",
       "      <td>4</td>\n",
       "      <td>0</td>\n",
       "      <td>4</td>\n",
       "      <td>0.888889</td>\n",
       "      <td>9</td>\n",
       "      <td>where's the peck of pickled peppers peter pipe...</td>\n",
       "      <td>peck the where's of peck of picked of where's ...</td>\n",
       "      <td>2.289639</td>\n",
       "      <td>0.000498</td>\n",
       "      <td>75468</td>\n",
       "    </tr>\n",
       "  </tbody>\n",
       "</table>\n",
       "<p>329 rows × 11 columns</p>\n",
       "</div>"
      ],
      "text/plain": [
       "     Filename  Insertions  Deletions  Substitutions       WER  Word Count  \\\n",
       "0    0000.wav           4          0              0  0.235294          17   \n",
       "1    0001.wav           6          0              1  1.000000           7   \n",
       "2    0002.wav           2          0              1  0.500000           6   \n",
       "3    0003.wav           3          0              0  0.750000           4   \n",
       "4    0004.wav           2          0              3  0.714286           7   \n",
       "..        ...         ...        ...            ...       ...         ...   \n",
       "324  0324.wav           6          1              5  0.705882          17   \n",
       "325  0325.wav           3          1              2  0.750000           8   \n",
       "326  0326.wav           3          0              8  0.916667          12   \n",
       "327  0327.wav           3          1              4  1.000000           8   \n",
       "328  0328.wav           4          0              4  0.888889           9   \n",
       "\n",
       "                                         transcription  \\\n",
       "0    peter piper picked a peck of pickled peppers w...   \n",
       "1               peter picked a peck of pickled peppers   \n",
       "2                     a peck of pickled peppers picked   \n",
       "3                              peter piper peter piper   \n",
       "4           where's the peck of pickled peppers picked   \n",
       "..                                                 ...   \n",
       "324  peter piper picked a peck of pickled peppers w...   \n",
       "325       peter piper picked a peck of pickled peppers   \n",
       "326  peter piper picked pickled peppers where's the...   \n",
       "327       a peck of pickled peppers peter piper picked   \n",
       "328  where's the peck of pickled peppers peter pipe...   \n",
       "\n",
       "                                 Viterbi transcription  Decode speed  \\\n",
       "0    pickled the peter piper picked a the peck of p...      6.386551   \n",
       "1    pickled the picked the peter picked the of pec...      3.920002   \n",
       "2       pickled the peck of pickled peppers picked the      2.914383   \n",
       "3              pickled the peter piper peter piper the      2.156747   \n",
       "4    pickled the where's the pickled pickled pepper...      2.772364   \n",
       "..                                                 ...           ...   \n",
       "324  peppers the of of of picked of peck of pickled...      4.662210   \n",
       "325    the of piper picked of a of pickled where's the      2.466545   \n",
       "326  the of piper of a picked where's where's pickl...      3.596072   \n",
       "327  the of pickled pickled where's where's of wher...      2.351508   \n",
       "328  peck the where's of peck of picked of where's ...      2.289639   \n",
       "\n",
       "     Backtrace speed  Forward computations  \n",
       "0           0.002707                240318  \n",
       "1           0.001042                136368  \n",
       "2           0.000777                102348  \n",
       "3           0.001054                 75468  \n",
       "4           0.000598                 98778  \n",
       "..               ...                   ...  \n",
       "324         0.000868                173958  \n",
       "325         0.000338                 88068  \n",
       "326         0.000784                132798  \n",
       "327         0.000326                 86178  \n",
       "328         0.000498                 75468  \n",
       "\n",
       "[329 rows x 11 columns]"
      ]
     },
     "execution_count": 39,
     "metadata": {},
     "output_type": "execute_result"
    }
   ],
   "source": [
    "results = pd.read_csv(\"results.csv\")\n",
    "results"
   ]
  },
  {
   "cell_type": "code",
   "execution_count": 53,
   "id": "629430c9",
   "metadata": {},
   "outputs": [
    {
     "data": {
      "text/plain": [
       "88.82108517165732"
      ]
     },
     "execution_count": 53,
     "metadata": {},
     "output_type": "execute_result"
    }
   ],
   "source": [
    "# average WER\n",
    "results['WER'].sum()/329*100"
   ]
  },
  {
   "cell_type": "code",
   "execution_count": 52,
   "id": "da0daeb6",
   "metadata": {},
   "outputs": [
    {
     "name": "stdout",
     "output_type": "stream",
     "text": [
      "Average Insertion %\n",
      "62.884105286215075\n",
      "Average Deletions %\n",
      "1.6939438573624164\n",
      "Average Substitutions %\n",
      "24.243036028079835\n"
     ]
    }
   ],
   "source": [
    "print(\"Average Insertion %\")\n",
    "print((results['Insertions']/results['Word Count']).sum()/329*100)\n",
    "print(\"Average Deletions %\")\n",
    "print((results['Deletions']/results['Word Count']).sum()/329*100)\n",
    "print(\"Average Substitutions %\")\n",
    "print((results['Substitutions']/results['Word Count']).sum()/329*100)"
   ]
  },
  {
   "cell_type": "code",
   "execution_count": 48,
   "id": "5e4557df",
   "metadata": {},
   "outputs": [
    {
     "data": {
      "text/plain": [
       "3.1946067389746204"
      ]
     },
     "execution_count": 48,
     "metadata": {},
     "output_type": "execute_result"
    }
   ],
   "source": [
    "# average decode speed\n",
    "results['Decode speed'].sum()/329"
   ]
  },
  {
   "cell_type": "code",
   "execution_count": 49,
   "id": "20da0f09",
   "metadata": {},
   "outputs": [
    {
     "data": {
      "text/plain": [
       "0.0006467042360624158"
      ]
     },
     "execution_count": 49,
     "metadata": {},
     "output_type": "execute_result"
    }
   ],
   "source": [
    "# average backtrace speed\n",
    "results['Backtrace speed'].sum()/329"
   ]
  },
  {
   "cell_type": "code",
   "execution_count": 47,
   "id": "983e512e",
   "metadata": {},
   "outputs": [
    {
     "data": {
      "text/plain": [
       "98197.78723404255"
      ]
     },
     "execution_count": 47,
     "metadata": {},
     "output_type": "execute_result"
    }
   ],
   "source": [
    "# average forward computations\n",
    "results['Forward computations'].sum()/329"
   ]
  },
  {
   "cell_type": "code",
   "execution_count": 41,
   "id": "820460e7",
   "metadata": {},
   "outputs": [
    {
     "name": "stdout",
     "output_type": "stream",
     "text": [
      "126\n"
     ]
    },
    {
     "data": {
      "text/plain": [
       "38.297872340425535"
      ]
     },
     "execution_count": 41,
     "metadata": {},
     "output_type": "execute_result"
    }
   ],
   "source": [
    "# number and % of WER > 1.0\n",
    "counter = 0\n",
    "for x in results['WER']:\n",
    "    if x >= 1.0:\n",
    "        counter += 1\n",
    "print(counter)\n",
    "counter/329*100"
   ]
  },
  {
   "cell_type": "code",
   "execution_count": null,
   "id": "ccd5f91c",
   "metadata": {},
   "outputs": [],
   "source": []
  },
  {
   "cell_type": "code",
   "execution_count": 42,
   "id": "02d06f06",
   "metadata": {},
   "outputs": [
    {
     "name": "stdout",
     "output_type": "stream",
     "text": [
      "Requirement already satisfied: matplotlib in /afs/inf.ed.ac.uk/user/s20/s2059564/.conda/envs/asr_env/lib/python3.7/site-packages (3.5.3)\n",
      "Requirement already satisfied: cycler>=0.10 in /afs/inf.ed.ac.uk/user/s20/s2059564/.conda/envs/asr_env/lib/python3.7/site-packages (from matplotlib) (0.11.0)\n",
      "Requirement already satisfied: python-dateutil>=2.7 in /afs/inf.ed.ac.uk/user/s20/s2059564/.conda/envs/asr_env/lib/python3.7/site-packages (from matplotlib) (2.8.2)\n",
      "Requirement already satisfied: pillow>=6.2.0 in /afs/inf.ed.ac.uk/user/s20/s2059564/.conda/envs/asr_env/lib/python3.7/site-packages (from matplotlib) (9.5.0)\n",
      "Requirement already satisfied: numpy>=1.17 in /afs/inf.ed.ac.uk/user/s20/s2059564/.conda/envs/asr_env/lib/python3.7/site-packages (from matplotlib) (1.21.6)\n",
      "Requirement already satisfied: packaging>=20.0 in /afs/inf.ed.ac.uk/user/s20/s2059564/.conda/envs/asr_env/lib/python3.7/site-packages (from matplotlib) (23.2)\n",
      "Requirement already satisfied: kiwisolver>=1.0.1 in /afs/inf.ed.ac.uk/user/s20/s2059564/.conda/envs/asr_env/lib/python3.7/site-packages (from matplotlib) (1.4.5)\n",
      "Requirement already satisfied: pyparsing>=2.2.1 in /afs/inf.ed.ac.uk/user/s20/s2059564/.conda/envs/asr_env/lib/python3.7/site-packages (from matplotlib) (3.1.2)\n",
      "Requirement already satisfied: fonttools>=4.22.0 in /afs/inf.ed.ac.uk/user/s20/s2059564/.conda/envs/asr_env/lib/python3.7/site-packages (from matplotlib) (4.38.0)\n",
      "Requirement already satisfied: typing-extensions in /afs/inf.ed.ac.uk/user/s20/s2059564/.conda/envs/asr_env/lib/python3.7/site-packages (from kiwisolver>=1.0.1->matplotlib) (4.7.1)\n",
      "Requirement already satisfied: six>=1.5 in /afs/inf.ed.ac.uk/user/s20/s2059564/.conda/envs/asr_env/lib/python3.7/site-packages (from python-dateutil>=2.7->matplotlib) (1.16.0)\n"
     ]
    }
   ],
   "source": [
    "import sys\n",
    "!{sys.executable} -m pip install matplotlib\n",
    "import matplotlib.pyplot as plt"
   ]
  },
  {
   "cell_type": "code",
   "execution_count": 43,
   "id": "9ccdd1d5",
   "metadata": {},
   "outputs": [
    {
     "data": {
      "image/png": "[encoded data removed]",
      "text/plain": [
       "<Figure size 640x480 with 1 Axes>"
      ]
     },
     "metadata": {},
     "output_type": "display_data"
    }
   ],
   "source": [
    "plt.plot([x for x in range(0, 329)], results['WER'])\n",
    "plt.show()"
   ]
  },
  {
   "cell_type": "code",
   "execution_count": 44,
   "id": "c27f3df1",
   "metadata": {},
   "outputs": [
    {
     "data": {
      "image/png": "[encoded data removed]",
      "text/plain": [
       "<Figure size 640x480 with 1 Axes>"
      ]
     },
     "metadata": {},
     "output_type": "display_data"
    }
   ],
   "source": [
    "# Define the range for the histogram bins\n",
    "bin_range = [i * 0.1 for i in range(int(max(results['WER']) / 0.1) + 2)]\n",
    "\n",
    "# Create the histogram\n",
    "plt.hist(results['WER'], bins=bin_range, edgecolor='black')\n",
    "\n",
    "# Set labels and title\n",
    "plt.xlabel('Word Error Rate')\n",
    "plt.ylabel('Frequency')\n",
    "plt.title('Distribution of Word Error Rates')\n",
    "\n",
    "# Show grid\n",
    "plt.grid(True)\n",
    "\n",
    "# Show plot\n",
    "plt.show()"
   ]
  }
 ],
 "metadata": {
  "kernelspec": {
   "display_name": "Python 3 (ipykernel)",
   "language": "python",
   "name": "python3"
  },
  "language_info": {
   "codemirror_mode": {
    "name": "ipython",
    "version": 3
   },
   "file_extension": ".py",
   "mimetype": "text/x-python",
   "name": "python",
   "nbconvert_exporter": "python",
   "pygments_lexer": "ipython3",
   "version": "3.7.16"
  }
 },
 "nbformat": 4,
 "nbformat_minor": 5
}
